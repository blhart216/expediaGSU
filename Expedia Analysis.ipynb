{
 "cells": [
  {
   "cell_type": "markdown",
   "metadata": {},
   "source": [
    "<div style = \"background-image:'conda.jpg';background-repeat: no-repeat\">\n",
    "\n",
    "\n",
    "<center> \n",
    "\n",
    "<h1 style=\"color:blue\"> Kaggle Expedia Hotel Recommendation Competition</h1>\n",
    "<h2 style = \"color:orange\"> Team Snakes </h2>\n",
    "<h3>\n",
    "Hardy Chen<br>\n",
    "Xing Gao<br>\n",
    "Brandon Hart<br>\n",
    "Jenny Ma<br>\n",
    "</h3>\n",
    "\n",
    "</center>\n",
    "\n",
    "<br>\n",
    "<br>\n",
    "<br>\n",
    "<br>\n",
    "<br>\n",
    "<br>\n",
    "<hr>\n",
    "\n",
    "<div style = \"background-color:orange;padding:5px;border:solid;border-color:black;\">\n",
    "<p>Expedia wants to provide personalized hotel recommendations to their users. </p>\n",
    "<p>https://www.kaggle.com/c/expedia-hotel-recommendations</p>\n",
    "</div>\n",
    "</div>"
   ]
  },
  {
   "cell_type": "markdown",
   "metadata": {
    "collapsed": false
   },
   "source": [
    "<img src = \"expedia.png\">"
   ]
  },
  {
   "cell_type": "markdown",
   "metadata": {},
   "source": [
    "<center><img src = \"leaders.jpg\"></center>"
   ]
  },
  {
   "cell_type": "code",
   "execution_count": 10,
   "metadata": {
    "collapsed": false
   },
   "outputs": [
    {
     "data": {
      "text/html": [
       "<div>\n",
       "<table border=\"1\" class=\"dataframe\">\n",
       "  <thead>\n",
       "    <tr style=\"text-align: right;\">\n",
       "      <th></th>\n",
       "      <th>id</th>\n",
       "      <th>date_time</th>\n",
       "      <th>site_name</th>\n",
       "      <th>posa_continent</th>\n",
       "      <th>user_location_country</th>\n",
       "      <th>user_location_region</th>\n",
       "      <th>user_location_city</th>\n",
       "      <th>orig_destination_distance</th>\n",
       "      <th>user_id</th>\n",
       "      <th>is_mobile</th>\n",
       "      <th>...</th>\n",
       "      <th>srch_ci</th>\n",
       "      <th>srch_co</th>\n",
       "      <th>srch_adults_cnt</th>\n",
       "      <th>srch_children_cnt</th>\n",
       "      <th>srch_rm_cnt</th>\n",
       "      <th>srch_destination_id</th>\n",
       "      <th>srch_destination_type_id</th>\n",
       "      <th>hotel_continent</th>\n",
       "      <th>hotel_country</th>\n",
       "      <th>hotel_market</th>\n",
       "    </tr>\n",
       "  </thead>\n",
       "  <tbody>\n",
       "    <tr>\n",
       "      <th>0</th>\n",
       "      <td>0</td>\n",
       "      <td>2015-09-03 17:09:54</td>\n",
       "      <td>2</td>\n",
       "      <td>3</td>\n",
       "      <td>66</td>\n",
       "      <td>174</td>\n",
       "      <td>37449</td>\n",
       "      <td>5539.0567</td>\n",
       "      <td>1</td>\n",
       "      <td>1</td>\n",
       "      <td>...</td>\n",
       "      <td>2016-05-19</td>\n",
       "      <td>2016-05-23</td>\n",
       "      <td>2</td>\n",
       "      <td>0</td>\n",
       "      <td>1</td>\n",
       "      <td>12243</td>\n",
       "      <td>6</td>\n",
       "      <td>6</td>\n",
       "      <td>204</td>\n",
       "      <td>27</td>\n",
       "    </tr>\n",
       "    <tr>\n",
       "      <th>1</th>\n",
       "      <td>1</td>\n",
       "      <td>2015-09-24 17:38:35</td>\n",
       "      <td>2</td>\n",
       "      <td>3</td>\n",
       "      <td>66</td>\n",
       "      <td>174</td>\n",
       "      <td>37449</td>\n",
       "      <td>5873.2923</td>\n",
       "      <td>1</td>\n",
       "      <td>1</td>\n",
       "      <td>...</td>\n",
       "      <td>2016-05-12</td>\n",
       "      <td>2016-05-15</td>\n",
       "      <td>2</td>\n",
       "      <td>0</td>\n",
       "      <td>1</td>\n",
       "      <td>14474</td>\n",
       "      <td>7</td>\n",
       "      <td>6</td>\n",
       "      <td>204</td>\n",
       "      <td>1540</td>\n",
       "    </tr>\n",
       "    <tr>\n",
       "      <th>2</th>\n",
       "      <td>2</td>\n",
       "      <td>2015-06-07 15:53:02</td>\n",
       "      <td>2</td>\n",
       "      <td>3</td>\n",
       "      <td>66</td>\n",
       "      <td>142</td>\n",
       "      <td>17440</td>\n",
       "      <td>3975.9776</td>\n",
       "      <td>20</td>\n",
       "      <td>0</td>\n",
       "      <td>...</td>\n",
       "      <td>2015-07-26</td>\n",
       "      <td>2015-07-27</td>\n",
       "      <td>4</td>\n",
       "      <td>0</td>\n",
       "      <td>1</td>\n",
       "      <td>11353</td>\n",
       "      <td>1</td>\n",
       "      <td>2</td>\n",
       "      <td>50</td>\n",
       "      <td>699</td>\n",
       "    </tr>\n",
       "    <tr>\n",
       "      <th>3</th>\n",
       "      <td>3</td>\n",
       "      <td>2015-09-14 14:49:10</td>\n",
       "      <td>2</td>\n",
       "      <td>3</td>\n",
       "      <td>66</td>\n",
       "      <td>258</td>\n",
       "      <td>34156</td>\n",
       "      <td>1508.5975</td>\n",
       "      <td>28</td>\n",
       "      <td>0</td>\n",
       "      <td>...</td>\n",
       "      <td>2015-09-14</td>\n",
       "      <td>2015-09-16</td>\n",
       "      <td>2</td>\n",
       "      <td>0</td>\n",
       "      <td>1</td>\n",
       "      <td>8250</td>\n",
       "      <td>1</td>\n",
       "      <td>2</td>\n",
       "      <td>50</td>\n",
       "      <td>628</td>\n",
       "    </tr>\n",
       "    <tr>\n",
       "      <th>4</th>\n",
       "      <td>4</td>\n",
       "      <td>2015-07-17 09:32:04</td>\n",
       "      <td>2</td>\n",
       "      <td>3</td>\n",
       "      <td>66</td>\n",
       "      <td>467</td>\n",
       "      <td>36345</td>\n",
       "      <td>66.7913</td>\n",
       "      <td>50</td>\n",
       "      <td>0</td>\n",
       "      <td>...</td>\n",
       "      <td>2015-07-22</td>\n",
       "      <td>2015-07-23</td>\n",
       "      <td>2</td>\n",
       "      <td>0</td>\n",
       "      <td>1</td>\n",
       "      <td>11812</td>\n",
       "      <td>1</td>\n",
       "      <td>2</td>\n",
       "      <td>50</td>\n",
       "      <td>538</td>\n",
       "    </tr>\n",
       "  </tbody>\n",
       "</table>\n",
       "<p>5 rows × 22 columns</p>\n",
       "</div>"
      ],
      "text/plain": [
       "   id            date_time  site_name  posa_continent  user_location_country  \\\n",
       "0   0  2015-09-03 17:09:54          2               3                     66   \n",
       "1   1  2015-09-24 17:38:35          2               3                     66   \n",
       "2   2  2015-06-07 15:53:02          2               3                     66   \n",
       "3   3  2015-09-14 14:49:10          2               3                     66   \n",
       "4   4  2015-07-17 09:32:04          2               3                     66   \n",
       "\n",
       "   user_location_region  user_location_city  orig_destination_distance  \\\n",
       "0                   174               37449                  5539.0567   \n",
       "1                   174               37449                  5873.2923   \n",
       "2                   142               17440                  3975.9776   \n",
       "3                   258               34156                  1508.5975   \n",
       "4                   467               36345                    66.7913   \n",
       "\n",
       "   user_id  is_mobile      ...          srch_ci     srch_co srch_adults_cnt  \\\n",
       "0        1          1      ...       2016-05-19  2016-05-23               2   \n",
       "1        1          1      ...       2016-05-12  2016-05-15               2   \n",
       "2       20          0      ...       2015-07-26  2015-07-27               4   \n",
       "3       28          0      ...       2015-09-14  2015-09-16               2   \n",
       "4       50          0      ...       2015-07-22  2015-07-23               2   \n",
       "\n",
       "  srch_children_cnt  srch_rm_cnt  srch_destination_id  \\\n",
       "0                 0            1                12243   \n",
       "1                 0            1                14474   \n",
       "2                 0            1                11353   \n",
       "3                 0            1                 8250   \n",
       "4                 0            1                11812   \n",
       "\n",
       "   srch_destination_type_id  hotel_continent  hotel_country  hotel_market  \n",
       "0                         6                6            204            27  \n",
       "1                         7                6            204          1540  \n",
       "2                         1                2             50           699  \n",
       "3                         1                2             50           628  \n",
       "4                         1                2             50           538  \n",
       "\n",
       "[5 rows x 22 columns]"
      ]
     },
     "execution_count": 10,
     "metadata": {},
     "output_type": "execute_result"
    }
   ],
   "source": [
    "import pandas as pd\n",
    "\n",
    "\n",
    "train = pd.read_csv(\"train.csv\") # Almost 4 Gigs!!!\n",
    "test = pd.read_csv(\"test.csv\")\n",
    "\n",
    "# See how many rows/columns \n",
    "print(train.shape) # includes website click data from 2013 and 2014\n",
    "print(test.shape) # includes actual booking in 2015\n",
    "\n",
    "# Target attribute is hotel_cluster, which isn't given in test data set\n",
    "# We must give 5 predictions, so expedia can show new user 5 hotel clusters\n",
    "# based on their activity on the website\n",
    "\n",
    "# Get familiar with data\n",
    "train.head(5)\n",
    "test.head(5)"
   ]
  },
  {
   "cell_type": "markdown",
   "metadata": {},
   "source": [
    "<h1><blink>Yikes, that's a lot of data!</blink></h1>"
   ]
  },
  {
   "cell_type": "code",
   "execution_count": null,
   "metadata": {
    "collapsed": false
   },
   "outputs": [],
   "source": [
    "sampleTraining = training.head(5)\n",
    "print (sampleTraining)"
   ]
  },
  {
   "cell_type": "code",
   "execution_count": 12,
   "metadata": {
    "collapsed": false
   },
   "outputs": [
    {
     "name": "stdout",
     "output_type": "stream",
     "text": [
      "91    1043720\n",
      "41     772743\n",
      "48     754033\n",
      "64     704734\n",
      "65     670960\n",
      "5      620194\n",
      "98     589178\n",
      "59     570291\n",
      "42     551605\n",
      "21     550092\n",
      "70     545572\n",
      "18     545284\n",
      "83     534132\n",
      "46     534038\n",
      "25     530591\n",
      "62     518809\n",
      "95     509266\n",
      "28     507016\n",
      "68     503797\n",
      "82     503755\n",
      "37     496061\n",
      "50     489892\n",
      "30     489287\n",
      "9      488328\n",
      "58     483253\n",
      "97     479446\n",
      "16     477868\n",
      "72     457463\n",
      "1      452694\n",
      "99     444887\n",
      "       ...   \n",
      "19     282893\n",
      "84     278264\n",
      "66     273505\n",
      "38     269246\n",
      "87     260398\n",
      "23     259233\n",
      "12     259022\n",
      "31     257587\n",
      "67     255946\n",
      "43     253578\n",
      "7      252447\n",
      "54     250745\n",
      "92     244343\n",
      "89     243560\n",
      "45     241408\n",
      "49     240124\n",
      "3      225250\n",
      "80     220218\n",
      "60     217919\n",
      "71     216054\n",
      "93     214293\n",
      "86     209054\n",
      "14     192299\n",
      "75     165226\n",
      "24     164127\n",
      "35     139122\n",
      "53     134812\n",
      "88     107784\n",
      "27     105040\n",
      "74      48355\n",
      "Name: hotel_cluster, dtype: int64\n"
     ]
    }
   ],
   "source": [
    "#distribution of hotel\n",
    "hotelDistribution = train[\"hotel_cluster\"].value_counts()\n",
    "print (hotelDistribution)\n",
    "# Pretty even"
   ]
  },
  {
   "cell_type": "code",
   "execution_count": 13,
   "metadata": {
    "collapsed": false
   },
   "outputs": [
    {
     "data": {
      "text/plain": [
       "True"
      ]
     },
     "execution_count": 13,
     "metadata": {},
     "output_type": "execute_result"
    }
   ],
   "source": [
    "#ids in test dataset is subset of ids in train dataset\n",
    "#so when we downsample, we need to keep this rule\n",
    "\n",
    "testids = set(test.user_id.unique())\n",
    "trainids = set(train.user_id.unique())\n",
    "\n",
    "inter = len(testids & trainids)\n",
    "inter == len(testids)"
   ]
  },
  {
   "cell_type": "code",
   "execution_count": 18,
   "metadata": {
    "collapsed": false
   },
   "outputs": [
    {
     "name": "stdout",
     "output_type": "stream",
     "text": [
      "            date_time  site_name  posa_continent  user_location_country  \\\n",
      "0 2014-08-11 07:46:59          2               3                     66   \n",
      "1 2014-08-11 08:22:12          2               3                     66   \n",
      "2 2014-08-11 08:24:33          2               3                     66   \n",
      "3 2014-08-09 18:05:16          2               3                     66   \n",
      "4 2014-08-09 18:08:18          2               3                     66   \n",
      "\n",
      "   user_location_region  user_location_city  orig_destination_distance  \\\n",
      "0                   348               48862                  2234.2641   \n",
      "1                   348               48862                  2234.2641   \n",
      "2                   348               48862                  2234.2641   \n",
      "3                   442               35390                   913.1932   \n",
      "4                   442               35390                   913.6259   \n",
      "\n",
      "   user_id  is_mobile  is_package  ...    srch_destination_id  \\\n",
      "0       12          0           1  ...                   8250   \n",
      "1       12          0           1  ...                   8250   \n",
      "2       12          0           0  ...                   8250   \n",
      "3       93          0           0  ...                  14984   \n",
      "4       93          0           0  ...                  14984   \n",
      "\n",
      "  srch_destination_type_id is_booking  cnt  hotel_continent  hotel_country  \\\n",
      "0                        1          0    3                2             50   \n",
      "1                        1          1    1                2             50   \n",
      "2                        1          0    1                2             50   \n",
      "3                        1          0    1                2             50   \n",
      "4                        1          0    1                2             50   \n",
      "\n",
      "   hotel_market  hotel_cluster  year  month  \n",
      "0           628              1  2014      8  \n",
      "1           628              1  2014      8  \n",
      "2           628              1  2014      8  \n",
      "3          1457             80  2014      8  \n",
      "4          1457             21  2014      8  \n",
      "\n",
      "[5 rows x 26 columns]\n"
     ]
    }
   ],
   "source": [
    "#since date_time is string in original dataset, we convert it to year and month\n",
    "train[\"date_time\"] = pd.to_datetime(train[\"date_time\"])\n",
    "train[\"year\"] = train[\"date_time\"].dt.year # Creating Column Year and extracting year from date_time\n",
    "train[\"month\"] = train[\"date_time\"].dt.month # Creating Column Month and extracting month from date_time\n",
    "\n",
    "print(train.head(5))"
   ]
  },
  {
   "cell_type": "code",
   "execution_count": 19,
   "metadata": {
    "collapsed": false
   },
   "outputs": [],
   "source": [
    "#downsample to 10000 users \n",
    "import random\n",
    "unique_users = train.user_id.unique()\n",
    "\n",
    "select_user_ids = [unique_users[i] for i in sorted(random.sample(range(len(unique_users)),10000))]\n",
    "select_train = train[train.user_id.isin(select_user_ids)]\n",
    "                     \n",
    "train10000 = select_train[((select_train.year == 2013) | ((select_train.year == 2014) & (select_train.month < 8)))]\n",
    "test10000 = select_train[((select_train.year == 2014) & (select_train.month >= 8))]"
   ]
  },
  {
   "cell_type": "code",
   "execution_count": 20,
   "metadata": {
    "collapsed": true
   },
   "outputs": [],
   "source": [
    "#remove click event\n",
    "#because we use test dataset to find out if our prediction correcr or not, so we only need row which have booking already                     \n",
    "test10000 = test10000[test10000.is_booking == True]"
   ]
  },
  {
   "cell_type": "code",
   "execution_count": 21,
   "metadata": {
    "collapsed": false
   },
   "outputs": [
    {
     "name": "stdout",
     "output_type": "stream",
     "text": [
      "[91, 41, 48, 64, 5]\n"
     ]
    }
   ],
   "source": [
    "#do a simple test algorithm: [top 5 popular] head defaults to 5 and index sorts Desc\n",
    "#so we can understand how the game works\n",
    "mostCommonCluster = list(train10000.hotel_cluster.value_counts().head().index)\n",
    "print(mostCommonCluster)\n"
   ]
  },
  {
   "cell_type": "code",
   "execution_count": 22,
   "metadata": {
    "collapsed": true
   },
   "outputs": [],
   "source": [
    "predictions = []\n",
    "for i in range(test10000.shape[0]):\n",
    "    predictions.append(mostCommonCluster)"
   ]
  },
  {
   "cell_type": "code",
   "execution_count": 24,
   "metadata": {
    "collapsed": false
   },
   "outputs": [
    {
     "data": {
      "text/plain": [
       "0.062708825847123714"
      ]
     },
     "execution_count": 24,
     "metadata": {},
     "output_type": "execute_result"
    }
   ],
   "source": [
    "import ml_metrics as metrics\n",
    "target = [[l] for l in test10000[\"hotel_cluster\"]]\n",
    "target = []\n",
    "for l in test10000[\"hotel_cluster\"]:\n",
    "    target.append([l])\n",
    "metrics.mapk(target, predictions, k=5)\n"
   ]
  },
  {
   "cell_type": "code",
   "execution_count": 25,
   "metadata": {
    "collapsed": true
   },
   "outputs": [],
   "source": [
    "#Use srch_destination_id to generate top clusters in each detsination \n",
    "#clusterCols = [[\"srch_destination_id\"],[\"hotel_cluster\"]]\n",
    "#groups = {(destination, hotel):[row1,row2],(destination, hotel):[row3,row4]}\n",
    "\n",
    "matchCols = [\"srch_destination_id\"]\n",
    "clusterCols = matchCols + [\"hotel_cluster\"] #Concatenates\n",
    "groups = train10000.groupby(clusterCols) # Aggregates\n"
   ]
  },
  {
   "cell_type": "code",
   "execution_count": 27,
   "metadata": {
    "collapsed": true
   },
   "outputs": [],
   "source": [
    "#score algorithm: score = bookings + 0.25 * clicks to calculate the most popular hotel cluster\n",
    "topClusters = {}\n",
    "# looks like this groups = {(destination, hotel):[row1,row2],(destination, hotel):[row3,row4]}\n",
    "for name,group in groups:\n",
    "    clicks = len(group.is_booking[group.is_booking == 0])\n",
    "    bookings = len(group.is_booking[group.is_booking == 1])\n",
    "    score = bookings + 0.25 * clicks\n",
    "    \n",
    "    clusName = name[0]\n",
    "    if clusName not in topClusters:\n",
    "        topClusters[clusName] = {}\n",
    "    topClusters[clusName][name[-1]] = score"
   ]
  },
  {
   "cell_type": "code",
   "execution_count": 35,
   "metadata": {
    "collapsed": true
   },
   "outputs": [],
   "source": [
    "#clusName = make_key(name[:len(matchCols)])\n",
    "#{'destination':{'Hotel':socore}}  \n",
    "\n",
    "import operator\n",
    "clusterDict ={}\n",
    "for n in topClusters:\n",
    "    tc = topClusters[n]\n",
    "    top= [ lst[0] for lst in sorted(tc.items(), key=operator.itemgetter(1),reverse=True)[:5]]\n",
    "    clusterDict[n] = top    "
   ]
  },
  {
   "cell_type": "code",
   "execution_count": 36,
   "metadata": {
    "collapsed": false
   },
   "outputs": [
    {
     "data": {
      "text/plain": [
       "0.23507289204097714"
      ]
     },
     "execution_count": 36,
     "metadata": {},
     "output_type": "execute_result"
    }
   ],
   "source": [
    "#make a prediction\n",
    "prediction = []\n",
    "for index,row in test10000.iterrows():\n",
    "    key = row[\"srch_destination_id\"]\n",
    "    if key in clusterDict:\n",
    "        prediction.append(clusterDict[key])\n",
    "    else:\n",
    "        prediction.append([])\n",
    "        \n",
    "        \n",
    "#evaluate our prediction\n",
    "#we got accuracy 0.23256897169473309\n",
    "metrics.mapk([[l] for l in test10000[\"hotel_cluster\"]], prediction, k=5)\n",
    "\n"
   ]
  },
  {
   "cell_type": "code",
   "execution_count": 37,
   "metadata": {
    "collapsed": false
   },
   "outputs": [],
   "source": [
    "#try better predictions\n",
    "matchCols1 =  ['user_location_region', 'orig_destination_distance', 'hotel_market']\n",
    "# find clusters in the created groups above row by row. The index will be the value of those four variables above in matchCols.\n",
    "# Then we use this index to find the hotel clusters. If it exists, then the cluster value will be appended into the clus list.\n",
    "# If the clusters value does not exsit, an empty list will be generate into clus.\n",
    "def generate_exact_matches(row,matchCols):\n",
    "    groups = train10000.groupby(matchCols)\n",
    "    index = tuple()\n",
    "    for t in matchCols:\n",
    "        index += (row[t],)\n",
    "\n",
    "    try:\n",
    "        group = groups.get_group(index)\n",
    "    except Exception:\n",
    "        return []\n",
    "    cluster = list(set(group.hotel_cluster))\n",
    "    return cluster\n"
   ]
  },
  {
   "cell_type": "code",
   "execution_count": null,
   "metadata": {
    "collapsed": false
   },
   "outputs": [],
   "source": [
    "#Try our function\n",
    "exactMatches1= []\n",
    "for i in range(test10000.shape[0]):\n",
    "    exactMatches1.append(generate_exact_matches(test10000.iloc[i],matchCols1))"
   ]
  },
  {
   "cell_type": "code",
   "execution_count": null,
   "metadata": {
    "collapsed": true
   },
   "outputs": [],
   "source": [
    "import ml_metrics as metrics\n",
    "target = [[l] for l in test10000[\"hotel_cluster\"]]\n",
    "metrics.mapk([[l] for l in test10000[\"hotel_cluster\"]], exactMatches1, k=5)"
   ]
  }
 ],
 "metadata": {
  "kernelspec": {
   "display_name": "Python 3",
   "language": "python",
   "name": "python3"
  },
  "language_info": {
   "codemirror_mode": {
    "name": "ipython",
    "version": 3
   },
   "file_extension": ".py",
   "mimetype": "text/x-python",
   "name": "python",
   "nbconvert_exporter": "python",
   "pygments_lexer": "ipython3",
   "version": "3.6.0"
  }
 },
 "nbformat": 4,
 "nbformat_minor": 2
}
